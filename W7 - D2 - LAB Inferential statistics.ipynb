{
 "cells": [
  {
   "cell_type": "markdown",
   "metadata": {},
   "source": [
    "# Lab | Inferential statistics\n",
    "\n",
    "\n",
    "### Instructions\n",
    "\n",
    "1. It is assumed that the mean systolic blood pressure is `μ = 120 mm Hg`. In the Honolulu Heart Study, a sample of `n = 100` people had an average systolic blood pressure of 130.1 mm Hg with a standard deviation of 21.21 mm Hg. Is the group significantly different (with respect to systolic blood pressure!) from the regular population?\n",
    "\n",
    "   - Set up the hypothesis test.\n",
    "   - Write down all the steps followed for setting up the test.\n",
    "   - Calculate the test statistic by hand and also code it in Python. It should be 4.76190. We will take a look at how to make decisions based on this calculated value.\n",
    "\n",
    "2. If you finished the previous question, please go through the code for `principal_component_analysis_example` provided in the `files_for_lab` folder ."
   ]
  },
  {
   "cell_type": "markdown",
   "metadata": {},
   "source": [
    "##### Setting up hypothesis test\n",
    "1. Null hypothesis\n",
    "\n",
    "2. Alternate hypothesis\n",
    "\n",
    "3. Level of significance\n",
    "\n",
    "4. Test statistic\n",
    "\n",
    "5. P-value\n",
    "\n"
   ]
  },
  {
   "cell_type": "code",
   "execution_count": 2,
   "metadata": {},
   "outputs": [
    {
     "name": "stdout",
     "output_type": "stream",
     "text": [
      "Statistic is:  4.761904761904759\n"
     ]
    }
   ],
   "source": [
    "import math\n",
    "\n",
    "sample_mean = 130.1\n",
    "pop_mean = 120\n",
    "sample_std = 21.21\n",
    "n = 100\n",
    "statistic = (sample_mean - pop_mean)/(sample_std/math.sqrt(n))\n",
    "print(\"Statistic is: \", statistic)"
   ]
  },
  {
   "cell_type": "code",
   "execution_count": 4,
   "metadata": {},
   "outputs": [
    {
     "name": "stdout",
     "output_type": "stream",
     "text": [
      "The t-statistic for the sample 0 is: 3.9496011632666317\n",
      "The t-statistic for the sample 1 is: 4.104690009405587\n",
      "The t-statistic for the sample 2 is: 4.768070695387682\n",
      "The t-statistic for the sample 3 is: 5.4750278425030245\n",
      "The t-statistic for the sample 4 is: 5.0354031352202\n",
      "The t-statistic for the sample 5 is: 3.1089433029179476\n",
      "The t-statistic for the sample 6 is: 3.333468271761586\n",
      "The t-statistic for the sample 7 is: 4.7318774274628534\n",
      "The t-statistic for the sample 8 is: 4.424876455349908\n",
      "The t-statistic for the sample 9 is: 4.817473794008081\n"
     ]
    }
   ],
   "source": [
    "import numpy as np\n",
    "from scipy import stats\n",
    "from numpy.random import normal\n",
    "\n",
    "\n",
    "samples = {}\n",
    "\n",
    "for i in range(10):\n",
    "    sample_name = \"sample_\" + str(i)\n",
    "    samples[sample_name] = normal(loc = 130.1, scale = 21.21, size = 100)\n",
    "    sample_mean = \"sample_\" + str(i) + \"_mean\"\n",
    "    samples[sample_mean] = np.mean(samples[sample_name])\n",
    "    sample_std = \"sample_\" + str(i) + \"_std\"\n",
    "    samples[sample_std] = np.std(samples[sample_name],ddof=1)\n",
    "    sample_statistic = \"sample_\" + str(i) + \"_t-statistic\"\n",
    "    samples[sample_statistic] = (samples[sample_mean]- pop_mean)/(samples[sample_std]/math.sqrt(n)) \n",
    "    print(\"The t-statistic for the sample {} is: {}\".format(i,samples[sample_statistic]))"
   ]
  },
  {
   "cell_type": "code",
   "execution_count": 6,
   "metadata": {},
   "outputs": [
    {
     "name": "stdout",
     "output_type": "stream",
     "text": [
      "Assuming a significance level of 0.05\n",
      "\n",
      "The p-value of sample 0 is: 0.000147\n",
      "Therefore we discard the null hypothesis Ho, as it's very unlikely to get sample 0 given Ho.\n",
      "\n",
      "The p-value of sample 1 is: 8.33e-05\n",
      "Therefore we discard the null hypothesis Ho, as it's very unlikely to get sample 1 given Ho.\n",
      "\n",
      "The p-value of sample 2 is: 6.4e-06\n",
      "Therefore we discard the null hypothesis Ho, as it's very unlikely to get sample 2 given Ho.\n",
      "\n",
      "The p-value of sample 3 is: 3.31e-07\n",
      "Therefore we discard the null hypothesis Ho, as it's very unlikely to get sample 3 given Ho.\n",
      "\n",
      "The p-value of sample 4 is: 2.14e-06\n",
      "Therefore we discard the null hypothesis Ho, as it's very unlikely to get sample 4 given Ho.\n",
      "\n",
      "The p-value of sample 5 is: 0.00245\n",
      "Therefore we discard the null hypothesis Ho, as it's very unlikely to get sample 5 given Ho.\n",
      "\n",
      "The p-value of sample 6 is: 0.00121\n",
      "Therefore we discard the null hypothesis Ho, as it's very unlikely to get sample 6 given Ho.\n",
      "\n",
      "The p-value of sample 7 is: 7.41e-06\n",
      "Therefore we discard the null hypothesis Ho, as it's very unlikely to get sample 7 given Ho.\n",
      "\n",
      "The p-value of sample 8 is: 2.48e-05\n",
      "Therefore we discard the null hypothesis Ho, as it's very unlikely to get sample 8 given Ho.\n",
      "\n",
      "The p-value of sample 9 is: 5.24e-06\n",
      "Therefore we discard the null hypothesis Ho, as it's very unlikely to get sample 9 given Ho.\n",
      "\n"
     ]
    }
   ],
   "source": [
    "print(\"Assuming a significance level of 0.05\")\n",
    "print()\n",
    "\n",
    "for i in range(10):\n",
    "    sample_name = \"sample_\" + str(i)\n",
    "    print(\"The p-value of sample {} is: {:-5.3}\".format(i,stats.ttest_1samp(samples[sample_name],120)[1]))\n",
    "    if ( stats.ttest_1samp(samples[sample_name],120)[1] < 0.05 ):\n",
    "        print(\"Therefore we discard the null hypothesis Ho, as it's very unlikely to get sample {} given Ho.\".format(i))\n",
    "    print()"
   ]
  },
  {
   "cell_type": "code",
   "execution_count": null,
   "metadata": {},
   "outputs": [],
   "source": []
  }
 ],
 "metadata": {
  "kernelspec": {
   "display_name": "Python 3",
   "language": "python",
   "name": "python3"
  },
  "language_info": {
   "codemirror_mode": {
    "name": "ipython",
    "version": 3
   },
   "file_extension": ".py",
   "mimetype": "text/x-python",
   "name": "python",
   "nbconvert_exporter": "python",
   "pygments_lexer": "ipython3",
   "version": "3.8.3"
  }
 },
 "nbformat": 4,
 "nbformat_minor": 4
}
